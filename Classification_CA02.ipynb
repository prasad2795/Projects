{
 "cells": [
  {
   "cell_type": "code",
   "execution_count": 13,
   "metadata": {},
   "outputs": [],
   "source": [
    "#importing libraries\n",
    "import pandas as pd\n",
    "from sklearn.model_selection import train_test_split \n",
    "from sklearn.linear_model import LogisticRegression\n",
    "from sklearn.tree import DecisionTreeClassifier\n",
    "from sklearn import naive_bayes \n",
    "from sklearn import metrics \n",
    "from sklearn.naive_bayes import GaussianNB\n",
    "from sklearn.neighbors import KNeighborsClassifier\n",
    "from sklearn.svm import SVC \n",
    "from sklearn.metrics import confusion_matrix\n",
    "import matplotlib.pyplot as plt"
   ]
  },
  {
   "cell_type": "code",
   "execution_count": 14,
   "metadata": {},
   "outputs": [],
   "source": [
    "#DataLoad\n",
    "dataset = pd.read_csv(\"C:/Users/35389/Documents/2005_-_2015_Graduation_Outcomes.csv\", encoding = \"ISO-8859-1\")"
   ]
  },
  {
   "cell_type": "code",
   "execution_count": 15,
   "metadata": {},
   "outputs": [
    {
     "name": "stdout",
     "output_type": "stream",
     "text": [
      "   Cohort Year Cohort Category                  Demographic  # Total Cohort  \\\n",
      "0         2001    4 Year  June     English Language Learner           10540   \n",
      "1         2001    4 Year  June  English Language Proficient           63603   \n",
      "2         2001    4 Year  June  Not Student with Disability           64593   \n",
      "3         2002    4 Year  June     English Language Learner            7454   \n",
      "4         2002    5 Year  June     English Language Learner            7454   \n",
      "\n",
      "   # Total Grads  % of cohort Total Grads  # of cohort Total Grads  \\\n",
      "0           2791                     26.5                      992   \n",
      "1          31712                     49.9                    21205   \n",
      "2          32863                     50.9                    21941   \n",
      "3           1691                     22.7                      639   \n",
      "4           2354                     31.6                      794   \n",
      "\n",
      "   % of cohort Total Regents  % of grads  Total Regents  \\\n",
      "0                        9.0                       35.5   \n",
      "1                       33.3                       66.9   \n",
      "2                       34.0                       66.8   \n",
      "3                        8.6                       37.8   \n",
      "4                       10.7                       33.7   \n",
      "\n",
      "   # of grads  Total Regents  ...  # of grads  Advanced Regents  \\\n",
      "0                      315.0  ...                         677.0   \n",
      "1                     8934.0  ...                       12271.0   \n",
      "2                     9211.0  ...                       12730.0   \n",
      "3                      132.0  ...                         507.0   \n",
      "4                      176.0  ...                         618.0   \n",
      "\n",
      "   % of cohort  Regents w/o Advanced  % of grads  Regents w/o Advanced  \\\n",
      "0                                6.4                              24.3   \n",
      "1                               19.3                              38.7   \n",
      "2                               19.7                              38.7   \n",
      "3                                6.8                              30.0   \n",
      "4                                8.3                              26.3   \n",
      "\n",
      "   # of grads  Regents w/o Advanced  % of cohort Local  % of grads Local  \\\n",
      "0                              1803               17.1              64.6   \n",
      "1                             10530               16.6              33.2   \n",
      "2                             10937               16.9              33.3   \n",
      "3                              1062               14.2              62.8   \n",
      "4                              1578               21.2              67.0   \n",
      "\n",
      "   # Still Enrolled  % of cohort Still Enrolled  # Dropped Out  \\\n",
      "0              3895                        37.0           3220   \n",
      "1             17199                        27.0          13117   \n",
      "2             18305                        28.3          13062   \n",
      "3              3062                        41.1           2330   \n",
      "4              1457                        19.5           3041   \n",
      "\n",
      "   % of cohort Dropped Out  \n",
      "0                     30.6  \n",
      "1                     20.6  \n",
      "2                     20.2  \n",
      "3                     31.3  \n",
      "4                     40.8  \n",
      "\n",
      "[5 rows x 22 columns]\n"
     ]
    }
   ],
   "source": [
    "print(dataset.head())"
   ]
  },
  {
   "cell_type": "code",
   "execution_count": 16,
   "metadata": {},
   "outputs": [
    {
     "data": {
      "text/plain": [
       "Cohort Year                           0\n",
       "Cohort Category                       0\n",
       "Demographic                           0\n",
       "# Total Cohort                        0\n",
       "# Total Grads                         0\n",
       "% of cohort Total Grads               0\n",
       "# of cohort Total Grads               0\n",
       "% of cohort Total Regents             0\n",
       "% of grads  Total Regents             0\n",
       "# of grads  Total Regents            10\n",
       "% of cohort  Advanced Regents        10\n",
       "% of grads  Advanced Regents         10\n",
       "# of grads  Advanced Regents         10\n",
       "% of cohort  Regents w/o Advanced    10\n",
       "% of grads  Regents w/o Advanced     10\n",
       "# of grads  Regents w/o Advanced      0\n",
       "% of cohort Local                     0\n",
       "% of grads Local                      0\n",
       "# Still Enrolled                      0\n",
       "% of cohort Still Enrolled            0\n",
       "# Dropped Out                         0\n",
       "% of cohort Dropped Out               0\n",
       "dtype: int64"
      ]
     },
     "execution_count": 16,
     "metadata": {},
     "output_type": "execute_result"
    }
   ],
   "source": [
    "dataset.isnull().sum()"
   ]
  },
  {
   "cell_type": "code",
   "execution_count": 17,
   "metadata": {},
   "outputs": [
    {
     "data": {
      "text/plain": [
       "Cohort Year                          0\n",
       "Cohort Category                      0\n",
       "Demographic                          0\n",
       "# Total Cohort                       0\n",
       "# Total Grads                        0\n",
       "% of cohort Total Grads              0\n",
       "# of cohort Total Grads              0\n",
       "% of cohort Total Regents            0\n",
       "% of grads  Total Regents            0\n",
       "# of grads  Total Regents            0\n",
       "% of cohort  Advanced Regents        0\n",
       "% of grads  Advanced Regents         0\n",
       "# of grads  Advanced Regents         0\n",
       "% of cohort  Regents w/o Advanced    0\n",
       "% of grads  Regents w/o Advanced     0\n",
       "# of grads  Regents w/o Advanced     0\n",
       "% of cohort Local                    0\n",
       "% of grads Local                     0\n",
       "# Still Enrolled                     0\n",
       "% of cohort Still Enrolled           0\n",
       "# Dropped Out                        0\n",
       "% of cohort Dropped Out              0\n",
       "dtype: int64"
      ]
     },
     "execution_count": 17,
     "metadata": {},
     "output_type": "execute_result"
    }
   ],
   "source": [
    "dataset=dataset.dropna()\n",
    "dataset.isnull().sum()"
   ]
  },
  {
   "cell_type": "code",
   "execution_count": 18,
   "metadata": {},
   "outputs": [
    {
     "name": "stdout",
     "output_type": "stream",
     "text": [
      "     Cohort Year Cohort Category                  Demographic  # Total Cohort  \\\n",
      "0           2001    4 Year  June     English Language Learner           10540   \n",
      "1           2001    4 Year  June  English Language Proficient           63603   \n",
      "2           2001    4 Year  June  Not Student with Disability           64593   \n",
      "3           2002    4 Year  June     English Language Learner            7454   \n",
      "4           2002    5 Year  June     English Language Learner            7454   \n",
      "..           ...             ...                          ...             ...   \n",
      "425         2010   4 Year August                         Male           38680   \n",
      "426         2010    5 Year  June                         Male           38495   \n",
      "427         2010   5 Year August                         Male           38495   \n",
      "428         2011    4 Year  June                         Male           38220   \n",
      "429         2011   4 Year August                         Male           38220   \n",
      "\n",
      "     # Total Grads  % of cohort Total Grads  # of cohort Total Grads  \\\n",
      "0             2791                     26.5                      992   \n",
      "1            31712                     49.9                    21205   \n",
      "2            32863                     50.9                    21941   \n",
      "3             1691                     22.7                      639   \n",
      "4             2354                     31.6                      794   \n",
      "..             ...                      ...                      ...   \n",
      "425          24845                     64.2                    22983   \n",
      "426          26876                     69.8                    24537   \n",
      "427          27231                     70.7                    24810   \n",
      "428          23581                     61.7                    22165   \n",
      "429          24973                     65.3                    23299   \n",
      "\n",
      "     % of cohort Total Regents  % of grads  Total Regents  \\\n",
      "0                          9.0                       35.5   \n",
      "1                         33.3                       66.9   \n",
      "2                         34.0                       66.8   \n",
      "3                          8.6                       37.8   \n",
      "4                         10.7                       33.7   \n",
      "..                         ...                        ...   \n",
      "425                       59.4                       92.5   \n",
      "426                       63.7                       91.3   \n",
      "427                       64.4                       91.1   \n",
      "428                       58.0                       94.0   \n",
      "429                       61.0                       93.3   \n",
      "\n",
      "     # of grads  Total Regents  ...  # of grads  Advanced Regents  \\\n",
      "0                        315.0  ...                         677.0   \n",
      "1                       8934.0  ...                       12271.0   \n",
      "2                       9211.0  ...                       12730.0   \n",
      "3                        132.0  ...                         507.0   \n",
      "4                        176.0  ...                         618.0   \n",
      "..                         ...  ...                           ...   \n",
      "425                     6134.0  ...                       16849.0   \n",
      "426                     6158.0  ...                       18379.0   \n",
      "427                     6160.0  ...                       18650.0   \n",
      "428                     6285.0  ...                       15880.0   \n",
      "429                     6336.0  ...                       16963.0   \n",
      "\n",
      "     % of cohort  Regents w/o Advanced  % of grads  Regents w/o Advanced  \\\n",
      "0                                  6.4                              24.3   \n",
      "1                                 19.3                              38.7   \n",
      "2                                 19.7                              38.7   \n",
      "3                                  6.8                              30.0   \n",
      "4                                  8.3                              26.3   \n",
      "..                                 ...                               ...   \n",
      "425                               43.6                              67.8   \n",
      "426                               47.7                              68.4   \n",
      "427                               48.4                              68.5   \n",
      "428                               41.5                              67.3   \n",
      "429                               44.4                              67.9   \n",
      "\n",
      "     # of grads  Regents w/o Advanced  % of cohort Local  % of grads Local  \\\n",
      "0                                1803               17.1              64.6   \n",
      "1                               10530               16.6              33.2   \n",
      "2                               10937               16.9              33.3   \n",
      "3                                1062               14.2              62.8   \n",
      "4                                1578               21.2              67.0   \n",
      "..                                ...                ...               ...   \n",
      "425                              1862                4.8              45.2   \n",
      "426                              2339                6.1              45.2   \n",
      "427                              2421                6.3              45.2   \n",
      "428                              1416                3.7              45.2   \n",
      "429                              1674                4.4              45.2   \n",
      "\n",
      "     # Still Enrolled  % of cohort Still Enrolled  # Dropped Out  \\\n",
      "0                3895                        37.0           3220   \n",
      "1               17199                        27.0          13117   \n",
      "2               18305                        28.3          13062   \n",
      "3                3062                        41.1           2330   \n",
      "4                1457                        19.5           3041   \n",
      "..                ...                         ...            ...   \n",
      "425              8799                        22.7           4131   \n",
      "426              4364                        11.3           5963   \n",
      "427              4021                        10.4           5953   \n",
      "428              9805                        25.7           3926   \n",
      "429              8423                        22.0           3924   \n",
      "\n",
      "     % of cohort Dropped Out  \n",
      "0                       30.6  \n",
      "1                       20.6  \n",
      "2                       20.2  \n",
      "3                       31.3  \n",
      "4                       40.8  \n",
      "..                       ...  \n",
      "425                     10.7  \n",
      "426                     15.5  \n",
      "427                     15.5  \n",
      "428                     10.3  \n",
      "429                     10.3  \n",
      "\n",
      "[420 rows x 22 columns]\n"
     ]
    }
   ],
   "source": [
    "print(dataset)"
   ]
  },
  {
   "cell_type": "code",
   "execution_count": 19,
   "metadata": {},
   "outputs": [
    {
     "name": "stdout",
     "output_type": "stream",
     "text": [
      "<class 'pandas.core.frame.DataFrame'>\n",
      "Int64Index: 420 entries, 0 to 429\n",
      "Data columns (total 22 columns):\n",
      "Cohort Year                          420 non-null int64\n",
      "Cohort Category                      420 non-null object\n",
      "Demographic                          420 non-null object\n",
      "# Total Cohort                       420 non-null int64\n",
      "# Total Grads                        420 non-null int64\n",
      "% of cohort Total Grads              420 non-null float64\n",
      "# of cohort Total Grads              420 non-null int64\n",
      "% of cohort Total Regents            420 non-null float64\n",
      "% of grads  Total Regents            420 non-null float64\n",
      "# of grads  Total Regents            420 non-null float64\n",
      "% of cohort  Advanced Regents        420 non-null float64\n",
      "% of grads  Advanced Regents         420 non-null float64\n",
      "# of grads  Advanced Regents         420 non-null float64\n",
      "% of cohort  Regents w/o Advanced    420 non-null float64\n",
      "% of grads  Regents w/o Advanced     420 non-null float64\n",
      "# of grads  Regents w/o Advanced     420 non-null int64\n",
      "% of cohort Local                    420 non-null float64\n",
      "% of grads Local                     420 non-null float64\n",
      "# Still Enrolled                     420 non-null int64\n",
      "% of cohort Still Enrolled           420 non-null float64\n",
      "# Dropped Out                        420 non-null int64\n",
      "% of cohort Dropped Out              420 non-null float64\n",
      "dtypes: float64(13), int64(7), object(2)\n",
      "memory usage: 75.5+ KB\n",
      "None\n"
     ]
    }
   ],
   "source": [
    "print(dataset.info())"
   ]
  },
  {
   "cell_type": "code",
   "execution_count": null,
   "metadata": {},
   "outputs": [],
   "source": []
  },
  {
   "cell_type": "code",
   "execution_count": null,
   "metadata": {},
   "outputs": [],
   "source": []
  },
  {
   "cell_type": "code",
   "execution_count": null,
   "metadata": {},
   "outputs": [],
   "source": []
  },
  {
   "cell_type": "code",
   "execution_count": null,
   "metadata": {},
   "outputs": [],
   "source": []
  },
  {
   "cell_type": "code",
   "execution_count": null,
   "metadata": {},
   "outputs": [],
   "source": []
  },
  {
   "cell_type": "code",
   "execution_count": 20,
   "metadata": {},
   "outputs": [],
   "source": [
    "Total=['# Total Grads','# Total Cohort']\n",
    "x=dataset [Total]\n",
    "y=dataset ['Cohort Year']"
   ]
  },
  {
   "cell_type": "code",
   "execution_count": 21,
   "metadata": {},
   "outputs": [
    {
     "data": {
      "image/png": "[encoded data removed]",
      "text/plain": [
       "<Figure size 432x288 with 1 Axes>"
      ]
     },
     "metadata": {
      "needs_background": "light"
     },
     "output_type": "display_data"
    }
   ],
   "source": [
    "import seaborn as sns\n",
    "sns.countplot(dataset['Cohort Year'],label=\"Count\")\n",
    "plt.show()"
   ]
  },
  {
   "cell_type": "code",
   "execution_count": 22,
   "metadata": {},
   "outputs": [],
   "source": [
    "#splitting the data into 70:30 ratio\n",
    "data_train, data_test, label_train, label_test = train_test_split(x, y, test_size=0.3, random_state=1)"
   ]
  },
  {
   "cell_type": "code",
   "execution_count": 23,
   "metadata": {},
   "outputs": [
    {
     "name": "stdout",
     "output_type": "stream",
     "text": [
      "Accuracy for Decision Tree = 54.761904761904766\n"
     ]
    }
   ],
   "source": [
    "#DecisionTree\n",
    "Dtree = DecisionTreeClassifier()\n",
    "#fitting the model\n",
    "Dtree = Dtree.fit(data_train, label_train)\n",
    "#predictting the values\n",
    "Dtree_label_predict = Dtree.predict(data_test)\n",
    "#Accuracy\n",
    "Dtree_Accuracy = metrics.accuracy_score(label_test, Dtree_label_predict)\n",
    "#printing the value\n",
    "print ('Accuracy for Decision Tree =', Dtree_Accuracy * 100)"
   ]
  },
  {
   "cell_type": "code",
   "execution_count": 24,
   "metadata": {},
   "outputs": [
    {
     "data": {
      "text/plain": [
       "# Total Grads     20675.555556\n",
       "# Total Cohort    30668.126984\n",
       "dtype: float64"
      ]
     },
     "execution_count": 24,
     "metadata": {},
     "output_type": "execute_result"
    }
   ],
   "source": [
    "# examine the class distribution of the testing set\n",
    "data_test.mean()"
   ]
  },
  {
   "cell_type": "code",
   "execution_count": null,
   "metadata": {},
   "outputs": [],
   "source": []
  },
  {
   "cell_type": "code",
   "execution_count": null,
   "metadata": {},
   "outputs": [],
   "source": []
  },
  {
   "cell_type": "code",
   "execution_count": 25,
   "metadata": {},
   "outputs": [
    {
     "name": "stdout",
     "output_type": "stream",
     "text": [
      "Accuracy for KNN = 17.46031746031746\n"
     ]
    }
   ],
   "source": [
    "#KNN\n",
    "KNNClass = KNeighborsClassifier()\n",
    "#fitting the model\n",
    "KNNClass = KNNClass.fit(data_train, label_train)\n",
    "#predicting the value\n",
    "KNN_label_predict = KNNClass.predict(data_test)\n",
    "#Accuracy\n",
    "KNNClass_Accuracy = metrics.accuracy_score(label_test, KNN_label_predict)\n",
    "#printing the value\n",
    "print ('Accuracy for KNN =', KNNClass_Accuracy * 100)\n",
    "#print(\"Confusion Matrix of %s is %s \\n\"%(KNNClass, KNN_CM))"
   ]
  },
  {
   "cell_type": "code",
   "execution_count": 26,
   "metadata": {},
   "outputs": [
    {
     "data": {
      "text/plain": [
       "([<matplotlib.axis.XTick at 0x164cdd5f0c8>,\n",
       "  <matplotlib.axis.XTick at 0x164cdd5f888>,\n",
       "  <matplotlib.axis.XTick at 0x164cdcb4888>,\n",
       "  <matplotlib.axis.XTick at 0x164cdd94ac8>,\n",
       "  <matplotlib.axis.XTick at 0x164cdd96208>,\n",
       "  <matplotlib.axis.XTick at 0x164cdd96748>,\n",
       "  <matplotlib.axis.XTick at 0x164cdd9b148>],\n",
       " <a list of 7 Text xticklabel objects>)"
      ]
     },
     "execution_count": 26,
     "metadata": {},
     "output_type": "execute_result"
    },
    {
     "data": {
      "image/png": "[encoded data removed]",
      "text/plain": [
       "<Figure size 432x288 with 1 Axes>"
      ]
     },
     "metadata": {
      "needs_background": "light"
     },
     "output_type": "display_data"
    }
   ],
   "source": [
    "#In order to find out what K value is best for the dataset\n",
    "k_range = range(1, 30)\n",
    "scores = []\n",
    "for k in k_range:\n",
    "    knn = KNeighborsClassifier(n_neighbors = k)\n",
    "    knn.fit(data_train, label_train)\n",
    "    scores.append(knn.score(data_test, label_test))\n",
    "plt.figure()\n",
    "plt.xlabel('k')\n",
    "plt.ylabel('accuracy')\n",
    "plt.scatter(k_range, scores)\n",
    "plt.xticks([0,5,10,15,20,25,30])"
   ]
  },
  {
   "cell_type": "code",
   "execution_count": 27,
   "metadata": {},
   "outputs": [
    {
     "name": "stdout",
     "output_type": "stream",
     "text": [
      "Accuracy for Logistic Regression = 9.523809523809524\n"
     ]
    },
    {
     "name": "stderr",
     "output_type": "stream",
     "text": [
      "C:\\Users\\35389\\AppData\\Local\\Continuum\\anaconda3\\lib\\site-packages\\sklearn\\linear_model\\logistic.py:432: FutureWarning: Default solver will be changed to 'lbfgs' in 0.22. Specify a solver to silence this warning.\n",
      "  FutureWarning)\n",
      "C:\\Users\\35389\\AppData\\Local\\Continuum\\anaconda3\\lib\\site-packages\\sklearn\\linear_model\\logistic.py:469: FutureWarning: Default multi_class will be changed to 'auto' in 0.22. Specify the multi_class option to silence this warning.\n",
      "  \"this warning.\", FutureWarning)\n"
     ]
    }
   ],
   "source": [
    "#Logistic Regression\n",
    "LogReg = LogisticRegression()\n",
    "#fitting the model\n",
    "LogReg = LogReg.fit(data_train, label_train)\n",
    "#predict the value\n",
    "LogReg_label_predict = LogReg.predict(data_test)\n",
    "#Accuracy\n",
    "LogReg_Accuracy = metrics.accuracy_score(label_test, LogReg_label_predict)\n",
    "#printing the value\n",
    "print ('Accuracy for Logistic Regression =', LogReg_Accuracy * 100)"
   ]
  },
  {
   "cell_type": "code",
   "execution_count": 109,
   "metadata": {},
   "outputs": [
    {
     "name": "stdout",
     "output_type": "stream",
     "text": [
      "Accuracy for SVM = 4.761904761904762\n"
     ]
    },
    {
     "name": "stderr",
     "output_type": "stream",
     "text": [
      "C:\\Users\\35389\\AppData\\Local\\Continuum\\anaconda3\\lib\\site-packages\\sklearn\\svm\\base.py:193: FutureWarning: The default value of gamma will change from 'auto' to 'scale' in version 0.22 to account better for unscaled features. Set gamma explicitly to 'auto' or 'scale' to avoid this warning.\n",
      "  \"avoid this warning.\", FutureWarning)\n"
     ]
    }
   ],
   "source": [
    "#SVM\n",
    "SVM = SVC()\n",
    "#fitting the model\n",
    "SVM = SVM.fit(data_train, label_train)\n",
    "#predict the value\n",
    "SVM_label_predict = SVM.predict(data_test)\n",
    "#Accuracy\n",
    "SVM_Accuracy = metrics.accuracy_score(label_test, SVM_label_predict)\n",
    "#printing the value\n",
    "print ('Accuracy for SVM =', SVM_Accuracy * 100)"
   ]
  },
  {
   "cell_type": "code",
   "execution_count": null,
   "metadata": {},
   "outputs": [],
   "source": [
    "\n"
   ]
  },
  {
   "cell_type": "code",
   "execution_count": null,
   "metadata": {},
   "outputs": [],
   "source": []
  },
  {
   "cell_type": "code",
   "execution_count": null,
   "metadata": {},
   "outputs": [],
   "source": []
  }
 ],
 "metadata": {
  "kernelspec": {
   "display_name": "Python 3",
   "language": "python",
   "name": "python3"
  },
  "language_info": {
   "codemirror_mode": {
    "name": "ipython",
    "version": 3
   },
   "file_extension": ".py",
   "mimetype": "text/x-python",
   "name": "python",
   "nbconvert_exporter": "python",
   "pygments_lexer": "ipython3",
   "version": "3.7.4"
  }
 },
 "nbformat": 4,
 "nbformat_minor": 2
}
